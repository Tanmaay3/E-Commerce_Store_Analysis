{
 "cells": [
  {
   "cell_type": "markdown",
   "metadata": {},
   "source": [
    "### Importing Libraries"
   ]
  },
  {
   "cell_type": "code",
   "execution_count": 85,
   "metadata": {},
   "outputs": [],
   "source": [
    "import pandas as pd\n",
    "import scipy.stats as stats\n",
    "import matplotlib.pyplot as plt\n",
    "import seaborn as sns\n",
    "import numpy as np\n",
    "sns.set_context('talk')\n",
    "sns.set_style(\"darkgrid\")\n",
    "import math"
   ]
  },
  {
   "cell_type": "markdown",
   "metadata": {},
   "source": [
    "### Importing Dataset"
   ]
  },
  {
   "cell_type": "code",
   "execution_count": 86,
   "metadata": {},
   "outputs": [
    {
     "data": {
      "text/html": [
       "<div>\n",
       "<style scoped>\n",
       "    .dataframe tbody tr th:only-of-type {\n",
       "        vertical-align: middle;\n",
       "    }\n",
       "\n",
       "    .dataframe tbody tr th {\n",
       "        vertical-align: top;\n",
       "    }\n",
       "\n",
       "    .dataframe thead th {\n",
       "        text-align: right;\n",
       "    }\n",
       "</style>\n",
       "<table border=\"1\" class=\"dataframe\">\n",
       "  <thead>\n",
       "    <tr style=\"text-align: right;\">\n",
       "      <th></th>\n",
       "      <th>InvoiceNo</th>\n",
       "      <th>StockCode</th>\n",
       "      <th>Description</th>\n",
       "      <th>Quantity</th>\n",
       "      <th>InvoiceDate</th>\n",
       "      <th>UnitPrice</th>\n",
       "      <th>CustomerID</th>\n",
       "      <th>Country</th>\n",
       "    </tr>\n",
       "  </thead>\n",
       "  <tbody>\n",
       "    <tr>\n",
       "      <th>0</th>\n",
       "      <td>536365</td>\n",
       "      <td>85123A</td>\n",
       "      <td>WHITE HANGING HEART T-LIGHT HOLDER</td>\n",
       "      <td>6</td>\n",
       "      <td>12/1/2010 8:26</td>\n",
       "      <td>2.55</td>\n",
       "      <td>17850.0</td>\n",
       "      <td>United Kingdom</td>\n",
       "    </tr>\n",
       "    <tr>\n",
       "      <th>1</th>\n",
       "      <td>536365</td>\n",
       "      <td>71053</td>\n",
       "      <td>WHITE METAL LANTERN</td>\n",
       "      <td>6</td>\n",
       "      <td>12/1/2010 8:26</td>\n",
       "      <td>3.39</td>\n",
       "      <td>17850.0</td>\n",
       "      <td>United Kingdom</td>\n",
       "    </tr>\n",
       "    <tr>\n",
       "      <th>2</th>\n",
       "      <td>536365</td>\n",
       "      <td>84406B</td>\n",
       "      <td>CREAM CUPID HEARTS COAT HANGER</td>\n",
       "      <td>8</td>\n",
       "      <td>12/1/2010 8:26</td>\n",
       "      <td>2.75</td>\n",
       "      <td>17850.0</td>\n",
       "      <td>United Kingdom</td>\n",
       "    </tr>\n",
       "    <tr>\n",
       "      <th>3</th>\n",
       "      <td>536365</td>\n",
       "      <td>84029G</td>\n",
       "      <td>KNITTED UNION FLAG HOT WATER BOTTLE</td>\n",
       "      <td>6</td>\n",
       "      <td>12/1/2010 8:26</td>\n",
       "      <td>3.39</td>\n",
       "      <td>17850.0</td>\n",
       "      <td>United Kingdom</td>\n",
       "    </tr>\n",
       "    <tr>\n",
       "      <th>4</th>\n",
       "      <td>536365</td>\n",
       "      <td>84029E</td>\n",
       "      <td>RED WOOLLY HOTTIE WHITE HEART.</td>\n",
       "      <td>6</td>\n",
       "      <td>12/1/2010 8:26</td>\n",
       "      <td>3.39</td>\n",
       "      <td>17850.0</td>\n",
       "      <td>United Kingdom</td>\n",
       "    </tr>\n",
       "  </tbody>\n",
       "</table>\n",
       "</div>"
      ],
      "text/plain": [
       "  InvoiceNo StockCode                          Description  Quantity  \\\n",
       "0    536365    85123A   WHITE HANGING HEART T-LIGHT HOLDER         6   \n",
       "1    536365     71053                  WHITE METAL LANTERN         6   \n",
       "2    536365    84406B       CREAM CUPID HEARTS COAT HANGER         8   \n",
       "3    536365    84029G  KNITTED UNION FLAG HOT WATER BOTTLE         6   \n",
       "4    536365    84029E       RED WOOLLY HOTTIE WHITE HEART.         6   \n",
       "\n",
       "      InvoiceDate  UnitPrice  CustomerID         Country  \n",
       "0  12/1/2010 8:26       2.55     17850.0  United Kingdom  \n",
       "1  12/1/2010 8:26       3.39     17850.0  United Kingdom  \n",
       "2  12/1/2010 8:26       2.75     17850.0  United Kingdom  \n",
       "3  12/1/2010 8:26       3.39     17850.0  United Kingdom  \n",
       "4  12/1/2010 8:26       3.39     17850.0  United Kingdom  "
      ]
     },
     "execution_count": 86,
     "metadata": {},
     "output_type": "execute_result"
    }
   ],
   "source": [
    "df = pd.read_csv(\"C:/Users/abcd/Downloads/data.csv\", engine ='python')\n",
    "df.head()"
   ]
  },
  {
   "cell_type": "markdown",
   "metadata": {},
   "source": [
    "### Data Preprocessing"
   ]
  },
  {
   "cell_type": "code",
   "execution_count": 87,
   "metadata": {},
   "outputs": [
    {
     "data": {
      "text/html": [
       "<div>\n",
       "<style scoped>\n",
       "    .dataframe tbody tr th:only-of-type {\n",
       "        vertical-align: middle;\n",
       "    }\n",
       "\n",
       "    .dataframe tbody tr th {\n",
       "        vertical-align: top;\n",
       "    }\n",
       "\n",
       "    .dataframe thead th {\n",
       "        text-align: right;\n",
       "    }\n",
       "</style>\n",
       "<table border=\"1\" class=\"dataframe\">\n",
       "  <thead>\n",
       "    <tr style=\"text-align: right;\">\n",
       "      <th></th>\n",
       "      <th>InvoiceNo</th>\n",
       "      <th>StockCode</th>\n",
       "      <th>Description</th>\n",
       "      <th>Quantity</th>\n",
       "      <th>InvoiceDate</th>\n",
       "      <th>UnitPrice</th>\n",
       "      <th>CustomerID</th>\n",
       "      <th>Country</th>\n",
       "      <th>Revenue</th>\n",
       "    </tr>\n",
       "  </thead>\n",
       "  <tbody>\n",
       "    <tr>\n",
       "      <th>0</th>\n",
       "      <td>536365</td>\n",
       "      <td>85123A</td>\n",
       "      <td>WHITE HANGING HEART T-LIGHT HOLDER</td>\n",
       "      <td>6</td>\n",
       "      <td>12/1/2010 8:26</td>\n",
       "      <td>2.55</td>\n",
       "      <td>17850.0</td>\n",
       "      <td>United Kingdom</td>\n",
       "      <td>15.30</td>\n",
       "    </tr>\n",
       "    <tr>\n",
       "      <th>1</th>\n",
       "      <td>536365</td>\n",
       "      <td>71053</td>\n",
       "      <td>WHITE METAL LANTERN</td>\n",
       "      <td>6</td>\n",
       "      <td>12/1/2010 8:26</td>\n",
       "      <td>3.39</td>\n",
       "      <td>17850.0</td>\n",
       "      <td>United Kingdom</td>\n",
       "      <td>20.34</td>\n",
       "    </tr>\n",
       "    <tr>\n",
       "      <th>2</th>\n",
       "      <td>536365</td>\n",
       "      <td>84406B</td>\n",
       "      <td>CREAM CUPID HEARTS COAT HANGER</td>\n",
       "      <td>8</td>\n",
       "      <td>12/1/2010 8:26</td>\n",
       "      <td>2.75</td>\n",
       "      <td>17850.0</td>\n",
       "      <td>United Kingdom</td>\n",
       "      <td>22.00</td>\n",
       "    </tr>\n",
       "    <tr>\n",
       "      <th>3</th>\n",
       "      <td>536365</td>\n",
       "      <td>84029G</td>\n",
       "      <td>KNITTED UNION FLAG HOT WATER BOTTLE</td>\n",
       "      <td>6</td>\n",
       "      <td>12/1/2010 8:26</td>\n",
       "      <td>3.39</td>\n",
       "      <td>17850.0</td>\n",
       "      <td>United Kingdom</td>\n",
       "      <td>20.34</td>\n",
       "    </tr>\n",
       "    <tr>\n",
       "      <th>4</th>\n",
       "      <td>536365</td>\n",
       "      <td>84029E</td>\n",
       "      <td>RED WOOLLY HOTTIE WHITE HEART.</td>\n",
       "      <td>6</td>\n",
       "      <td>12/1/2010 8:26</td>\n",
       "      <td>3.39</td>\n",
       "      <td>17850.0</td>\n",
       "      <td>United Kingdom</td>\n",
       "      <td>20.34</td>\n",
       "    </tr>\n",
       "  </tbody>\n",
       "</table>\n",
       "</div>"
      ],
      "text/plain": [
       "  InvoiceNo StockCode                          Description  Quantity  \\\n",
       "0    536365    85123A   WHITE HANGING HEART T-LIGHT HOLDER         6   \n",
       "1    536365     71053                  WHITE METAL LANTERN         6   \n",
       "2    536365    84406B       CREAM CUPID HEARTS COAT HANGER         8   \n",
       "3    536365    84029G  KNITTED UNION FLAG HOT WATER BOTTLE         6   \n",
       "4    536365    84029E       RED WOOLLY HOTTIE WHITE HEART.         6   \n",
       "\n",
       "      InvoiceDate  UnitPrice  CustomerID         Country  Revenue  \n",
       "0  12/1/2010 8:26       2.55     17850.0  United Kingdom    15.30  \n",
       "1  12/1/2010 8:26       3.39     17850.0  United Kingdom    20.34  \n",
       "2  12/1/2010 8:26       2.75     17850.0  United Kingdom    22.00  \n",
       "3  12/1/2010 8:26       3.39     17850.0  United Kingdom    20.34  \n",
       "4  12/1/2010 8:26       3.39     17850.0  United Kingdom    20.34  "
      ]
     },
     "execution_count": 87,
     "metadata": {},
     "output_type": "execute_result"
    }
   ],
   "source": [
    "#drop orders with missing customer ID\n",
    "df = df.dropna(subset = ['CustomerID'])\n",
    "\n",
    "#remove rows with manual, dotcom postage, etc under description\n",
    "remove_unit = ['Manual', 'DOTCOM POSTAGE', 'CRUK Commission', 'POSTAGE', 'Discount']\n",
    "df = df[~df['Description'].isin(remove_unit)]\n",
    "\n",
    "#remove outliers using interquartile range\n",
    "def remove_outlier(df_in, col_name):\n",
    "    Q1 = df_in[col_name].quantile(0.25)\n",
    "    Q3 = df_in[col_name].quantile(0.75)\n",
    "    IQR = Q3 - Q1\n",
    "    df_out = df_in[~((df_in[col_name] < (Q1 - 1.5 * IQR)) | (df_in[col_name] > (Q3 + 1.5 * IQR)))]\n",
    "    return df_out\n",
    "\n",
    "#apply function independently on each needed columns \n",
    "newunit = remove_outlier(df, 'UnitPrice')\n",
    "newquantity = remove_outlier(df, 'Quantity')\n",
    "\n",
    "#merge the two dataframes together\n",
    "cols = newquantity.columns.difference(newunit.columns)\n",
    "df = pd.merge(newunit, newquantity[cols], how = 'inner', left_index = True, right_index = True)\n",
    "\n",
    "#remove matching postive and negative rows\n",
    "df = df[~df.groupby(['Description', 'CustomerID', 'StockCode', 'Country', 'UnitPrice'])['Quantity'].transform('sum').eq(0)]\n",
    "\n",
    "#remove remaining rows with negative quantity\n",
    "df = df[df['Quantity'] > 0]\n",
    "\n",
    "#create revenue column\n",
    "df['Revenue'] = df['UnitPrice'] * df['Quantity']\n",
    "\n",
    "#df.groupby(['Country', 'CustomerID', 'InvoiceNo']).count().head()\n",
    "df.head()"
   ]
  },
  {
   "cell_type": "markdown",
   "metadata": {},
   "source": [
    "### Scenario 1"
   ]
  },
  {
   "cell_type": "markdown",
   "metadata": {},
   "source": [
    "### Let’s imagine the manager of the retail store decides to give some bonus to the highest paying customer in every country, and to do this he assumes that customer who has the highest number of order count per country are the highest paying customers. In other words, he believes that the average revenue generated from these customers is more than the revenue generated from the whole population of customers. Is there enough evidence to accept the manager’s hypothesis?"
   ]
  },
  {
   "cell_type": "code",
   "execution_count": 88,
   "metadata": {},
   "outputs": [
    {
     "data": {
      "text/html": [
       "<div>\n",
       "<style scoped>\n",
       "    .dataframe tbody tr th:only-of-type {\n",
       "        vertical-align: middle;\n",
       "    }\n",
       "\n",
       "    .dataframe tbody tr th {\n",
       "        vertical-align: top;\n",
       "    }\n",
       "\n",
       "    .dataframe thead th {\n",
       "        text-align: right;\n",
       "    }\n",
       "</style>\n",
       "<table border=\"1\" class=\"dataframe\">\n",
       "  <thead>\n",
       "    <tr style=\"text-align: right;\">\n",
       "      <th></th>\n",
       "      <th>Order_Country</th>\n",
       "      <th>Total_revenue</th>\n",
       "    </tr>\n",
       "  </thead>\n",
       "  <tbody>\n",
       "    <tr>\n",
       "      <th>0</th>\n",
       "      <td>Australia</td>\n",
       "      <td>12431.0</td>\n",
       "    </tr>\n",
       "    <tr>\n",
       "      <th>1</th>\n",
       "      <td>Austria</td>\n",
       "      <td>12360.0</td>\n",
       "    </tr>\n",
       "    <tr>\n",
       "      <th>2</th>\n",
       "      <td>Bahrain</td>\n",
       "      <td>12355.0</td>\n",
       "    </tr>\n",
       "    <tr>\n",
       "      <th>3</th>\n",
       "      <td>Belgium</td>\n",
       "      <td>12362.0</td>\n",
       "    </tr>\n",
       "    <tr>\n",
       "      <th>4</th>\n",
       "      <td>Brazil</td>\n",
       "      <td>12769.0</td>\n",
       "    </tr>\n",
       "    <tr>\n",
       "      <th>5</th>\n",
       "      <td>Canada</td>\n",
       "      <td>17444.0</td>\n",
       "    </tr>\n",
       "    <tr>\n",
       "      <th>6</th>\n",
       "      <td>Channel Islands</td>\n",
       "      <td>14936.0</td>\n",
       "    </tr>\n",
       "    <tr>\n",
       "      <th>7</th>\n",
       "      <td>Cyprus</td>\n",
       "      <td>12359.0</td>\n",
       "    </tr>\n",
       "    <tr>\n",
       "      <th>8</th>\n",
       "      <td>Czech Republic</td>\n",
       "      <td>12781.0</td>\n",
       "    </tr>\n",
       "    <tr>\n",
       "      <th>9</th>\n",
       "      <td>Denmark</td>\n",
       "      <td>12406.0</td>\n",
       "    </tr>\n",
       "    <tr>\n",
       "      <th>10</th>\n",
       "      <td>EIRE</td>\n",
       "      <td>14911.0</td>\n",
       "    </tr>\n",
       "    <tr>\n",
       "      <th>11</th>\n",
       "      <td>European Community</td>\n",
       "      <td>15108.0</td>\n",
       "    </tr>\n",
       "    <tr>\n",
       "      <th>12</th>\n",
       "      <td>Finland</td>\n",
       "      <td>12428.0</td>\n",
       "    </tr>\n",
       "    <tr>\n",
       "      <th>13</th>\n",
       "      <td>France</td>\n",
       "      <td>12681.0</td>\n",
       "    </tr>\n",
       "    <tr>\n",
       "      <th>14</th>\n",
       "      <td>Germany</td>\n",
       "      <td>12621.0</td>\n",
       "    </tr>\n",
       "    <tr>\n",
       "      <th>15</th>\n",
       "      <td>Greece</td>\n",
       "      <td>12717.0</td>\n",
       "    </tr>\n",
       "    <tr>\n",
       "      <th>16</th>\n",
       "      <td>Iceland</td>\n",
       "      <td>12347.0</td>\n",
       "    </tr>\n",
       "    <tr>\n",
       "      <th>17</th>\n",
       "      <td>Israel</td>\n",
       "      <td>12688.0</td>\n",
       "    </tr>\n",
       "    <tr>\n",
       "      <th>18</th>\n",
       "      <td>Italy</td>\n",
       "      <td>12578.0</td>\n",
       "    </tr>\n",
       "    <tr>\n",
       "      <th>19</th>\n",
       "      <td>Japan</td>\n",
       "      <td>12754.0</td>\n",
       "    </tr>\n",
       "    <tr>\n",
       "      <th>20</th>\n",
       "      <td>Lebanon</td>\n",
       "      <td>12764.0</td>\n",
       "    </tr>\n",
       "    <tr>\n",
       "      <th>21</th>\n",
       "      <td>Lithuania</td>\n",
       "      <td>15332.0</td>\n",
       "    </tr>\n",
       "    <tr>\n",
       "      <th>22</th>\n",
       "      <td>Malta</td>\n",
       "      <td>17828.0</td>\n",
       "    </tr>\n",
       "    <tr>\n",
       "      <th>23</th>\n",
       "      <td>Netherlands</td>\n",
       "      <td>14646.0</td>\n",
       "    </tr>\n",
       "    <tr>\n",
       "      <th>24</th>\n",
       "      <td>Norway</td>\n",
       "      <td>12433.0</td>\n",
       "    </tr>\n",
       "    <tr>\n",
       "      <th>25</th>\n",
       "      <td>Poland</td>\n",
       "      <td>12779.0</td>\n",
       "    </tr>\n",
       "    <tr>\n",
       "      <th>26</th>\n",
       "      <td>Portugal</td>\n",
       "      <td>12757.0</td>\n",
       "    </tr>\n",
       "    <tr>\n",
       "      <th>27</th>\n",
       "      <td>RSA</td>\n",
       "      <td>12446.0</td>\n",
       "    </tr>\n",
       "    <tr>\n",
       "      <th>28</th>\n",
       "      <td>Saudi Arabia</td>\n",
       "      <td>12565.0</td>\n",
       "    </tr>\n",
       "    <tr>\n",
       "      <th>29</th>\n",
       "      <td>Singapore</td>\n",
       "      <td>12744.0</td>\n",
       "    </tr>\n",
       "    <tr>\n",
       "      <th>30</th>\n",
       "      <td>Spain</td>\n",
       "      <td>12540.0</td>\n",
       "    </tr>\n",
       "    <tr>\n",
       "      <th>31</th>\n",
       "      <td>Sweden</td>\n",
       "      <td>12483.0</td>\n",
       "    </tr>\n",
       "    <tr>\n",
       "      <th>32</th>\n",
       "      <td>Switzerland</td>\n",
       "      <td>12451.0</td>\n",
       "    </tr>\n",
       "    <tr>\n",
       "      <th>33</th>\n",
       "      <td>USA</td>\n",
       "      <td>12646.0</td>\n",
       "    </tr>\n",
       "    <tr>\n",
       "      <th>34</th>\n",
       "      <td>United Arab Emirates</td>\n",
       "      <td>12739.0</td>\n",
       "    </tr>\n",
       "    <tr>\n",
       "      <th>35</th>\n",
       "      <td>United Kingdom</td>\n",
       "      <td>17841.0</td>\n",
       "    </tr>\n",
       "    <tr>\n",
       "      <th>36</th>\n",
       "      <td>Unspecified</td>\n",
       "      <td>12743.0</td>\n",
       "    </tr>\n",
       "  </tbody>\n",
       "</table>\n",
       "</div>"
      ],
      "text/plain": [
       "           Order_Country  Total_revenue\n",
       "0              Australia        12431.0\n",
       "1                Austria        12360.0\n",
       "2                Bahrain        12355.0\n",
       "3                Belgium        12362.0\n",
       "4                 Brazil        12769.0\n",
       "5                 Canada        17444.0\n",
       "6        Channel Islands        14936.0\n",
       "7                 Cyprus        12359.0\n",
       "8         Czech Republic        12781.0\n",
       "9                Denmark        12406.0\n",
       "10                  EIRE        14911.0\n",
       "11    European Community        15108.0\n",
       "12               Finland        12428.0\n",
       "13                France        12681.0\n",
       "14               Germany        12621.0\n",
       "15                Greece        12717.0\n",
       "16               Iceland        12347.0\n",
       "17                Israel        12688.0\n",
       "18                 Italy        12578.0\n",
       "19                 Japan        12754.0\n",
       "20               Lebanon        12764.0\n",
       "21             Lithuania        15332.0\n",
       "22                 Malta        17828.0\n",
       "23           Netherlands        14646.0\n",
       "24                Norway        12433.0\n",
       "25                Poland        12779.0\n",
       "26              Portugal        12757.0\n",
       "27                   RSA        12446.0\n",
       "28          Saudi Arabia        12565.0\n",
       "29             Singapore        12744.0\n",
       "30                 Spain        12540.0\n",
       "31                Sweden        12483.0\n",
       "32           Switzerland        12451.0\n",
       "33                   USA        12646.0\n",
       "34  United Arab Emirates        12739.0\n",
       "35        United Kingdom        17841.0\n",
       "36           Unspecified        12743.0"
      ]
     },
     "execution_count": 88,
     "metadata": {},
     "output_type": "execute_result"
    }
   ],
   "source": [
    "#select customers with the highest number of orders per country \n",
    "k = (df.groupby(['Country'],as_index=False).agg({'CustomerID': pd.Series.mode}))\n",
    "\n",
    "#inner-join the selection to df to create a dataframe\n",
    "highest_ord = pd.merge(df, k, how = 'inner', left_on = ['Country', 'CustomerID'], right_on = ['Country', 'CustomerID'])\n",
    "highest_ord.groupby(['Country', 'CustomerID'], as_index=False).agg(Order_Country = ('InvoiceNo', np.size), Total_revenue = ('Revenue', np.sum))\n"
   ]
  },
  {
   "cell_type": "code",
   "execution_count": 89,
   "metadata": {},
   "outputs": [
    {
     "data": {
      "text/plain": [
       "(17101, 9)"
      ]
     },
     "execution_count": 89,
     "metadata": {},
     "output_type": "execute_result"
    }
   ],
   "source": [
    "highest_ord.shape"
   ]
  },
  {
   "cell_type": "code",
   "execution_count": 90,
   "metadata": {},
   "outputs": [
    {
     "data": {
      "text/plain": [
       "12.772932828559997"
      ]
     },
     "execution_count": 90,
     "metadata": {},
     "output_type": "execute_result"
    }
   ],
   "source": [
    "#Mean of the Revenue from the whole dataframe\n",
    "mean = np.mean(df['Revenue'])\n",
    "mean"
   ]
  },
  {
   "cell_type": "code",
   "execution_count": 91,
   "metadata": {},
   "outputs": [
    {
     "data": {
      "text/plain": [
       "Text(0.5, 1.0, 'Mean Revenue by Customer Types')"
      ]
     },
     "execution_count": 91,
     "metadata": {},
     "output_type": "execute_result"
    },
    {
     "data": {
      "image/png": "[encoded data removed]",
      "text/plain": [
       "<Figure size 720x432 with 1 Axes>"
      ]
     },
     "metadata": {},
     "output_type": "display_data"
    }
   ],
   "source": [
    "#generate a bar chart for the means\n",
    "bar1 = pd.DataFrame({'Customer': {0: 'Highest-ordering Customers', 1: 'All Customers'}, \n",
    "                   'Mean': {0: highest_ord['Revenue'].mean(), 1: df['Revenue'].mean()}}) \n",
    "\n",
    "fig = plt.figure(figsize = (10, 6))\n",
    "clrs = ['rebeccapurple' if (x == min(bar1)) else 'steelblue' for x in bar1 ]\n",
    "sns.barplot(x=\"Customer\", y = 'Mean', data = bar1, palette = clrs)\n",
    "plt.title(\"Mean Revenue by Customer Types\")"
   ]
  },
  {
   "cell_type": "markdown",
   "metadata": {},
   "source": [
    "#### t-test with p-value"
   ]
  },
  {
   "cell_type": "code",
   "execution_count": 92,
   "metadata": {},
   "outputs": [
    {
     "data": {
      "text/plain": [
       "3.4471587791494236"
      ]
     },
     "execution_count": 92,
     "metadata": {},
     "output_type": "execute_result"
    }
   ],
   "source": [
    "#Null Hypothesis: There is no difference between the sample mean and the hypothesized mean.\n",
    "#Alternative Hypothesis: The sample mean is greater than the hypothesized mean.\n",
    "\n",
    "#H0 : μ = 12.77, Ha : μ > 12.77\n",
    "\n",
    "n = 17101\n",
    "degrees_of_freedom = n-1\n",
    "xbar = highest_ord['Revenue'].mean()\n",
    "mu = df['Revenue'].mean()\n",
    "s = highest_ord['Revenue'].std()\n",
    "alpha = 0.05\n",
    "\n",
    "t = (xbar - mu) / (s / np.sqrt(n))\n",
    "t"
   ]
  },
  {
   "cell_type": "code",
   "execution_count": 93,
   "metadata": {},
   "outputs": [
    {
     "data": {
      "text/plain": [
       "0.0002839390302739053"
      ]
     },
     "execution_count": 93,
     "metadata": {},
     "output_type": "execute_result"
    }
   ],
   "source": [
    "p_val = (1 - stats.t.cdf(abs(t) ,degrees_of_freedom)) #\"1 - cdf\" because it's a right-tailed test\n",
    "p_val"
   ]
  },
  {
   "cell_type": "code",
   "execution_count": 94,
   "metadata": {},
   "outputs": [
    {
     "name": "stdout",
     "output_type": "stream",
     "text": [
      "Reject Null hypothesis\n"
     ]
    }
   ],
   "source": [
    "if (p_val > alpha):\n",
    "    print(\"Null hypothesis cannot be rejected\")\n",
    "else:\n",
    "    print(\"Reject Null hypothesis\")"
   ]
  },
  {
   "cell_type": "markdown",
   "metadata": {},
   "source": [
    "### With the result above, we can conclude that the managers assumption is good enough, the average revenue generated from these high -ordering customers is more than the revenue generated from the whole population of customers."
   ]
  },
  {
   "cell_type": "markdown",
   "metadata": {},
   "source": [
    "### Scenario 2"
   ]
  },
  {
   "cell_type": "markdown",
   "metadata": {},
   "source": [
    "### The assistant manager thinks that a customer may actually have high order count but not necessarily high number of units per order. So he recommends that customers with the highest average total units purchased should be given preference instead. But the manager is not sure if there will be any major difference between them. Is there enough evidence to accept the assistant manager’s hypothesis?"
   ]
  },
  {
   "cell_type": "code",
   "execution_count": 95,
   "metadata": {},
   "outputs": [
    {
     "data": {
      "text/html": [
       "<div>\n",
       "<style scoped>\n",
       "    .dataframe tbody tr th:only-of-type {\n",
       "        vertical-align: middle;\n",
       "    }\n",
       "\n",
       "    .dataframe tbody tr th {\n",
       "        vertical-align: top;\n",
       "    }\n",
       "\n",
       "    .dataframe thead th {\n",
       "        text-align: right;\n",
       "    }\n",
       "</style>\n",
       "<table border=\"1\" class=\"dataframe\">\n",
       "  <thead>\n",
       "    <tr style=\"text-align: right;\">\n",
       "      <th></th>\n",
       "      <th>Mean_Country</th>\n",
       "      <th>Total_revenue</th>\n",
       "    </tr>\n",
       "  </thead>\n",
       "  <tbody>\n",
       "    <tr>\n",
       "      <th>0</th>\n",
       "      <td>Australia</td>\n",
       "      <td>12415.0</td>\n",
       "    </tr>\n",
       "    <tr>\n",
       "      <th>1</th>\n",
       "      <td>Austria</td>\n",
       "      <td>12817.0</td>\n",
       "    </tr>\n",
       "    <tr>\n",
       "      <th>2</th>\n",
       "      <td>Bahrain</td>\n",
       "      <td>12355.0</td>\n",
       "    </tr>\n",
       "    <tr>\n",
       "      <th>3</th>\n",
       "      <td>Belgium</td>\n",
       "      <td>12364.0</td>\n",
       "    </tr>\n",
       "    <tr>\n",
       "      <th>4</th>\n",
       "      <td>Brazil</td>\n",
       "      <td>12769.0</td>\n",
       "    </tr>\n",
       "    <tr>\n",
       "      <th>5</th>\n",
       "      <td>Canada</td>\n",
       "      <td>17444.0</td>\n",
       "    </tr>\n",
       "    <tr>\n",
       "      <th>6</th>\n",
       "      <td>Channel Islands</td>\n",
       "      <td>14937.0</td>\n",
       "    </tr>\n",
       "    <tr>\n",
       "      <th>7</th>\n",
       "      <td>Cyprus</td>\n",
       "      <td>12455.0</td>\n",
       "    </tr>\n",
       "    <tr>\n",
       "      <th>8</th>\n",
       "      <td>Czech Republic</td>\n",
       "      <td>12781.0</td>\n",
       "    </tr>\n",
       "    <tr>\n",
       "      <th>9</th>\n",
       "      <td>Denmark</td>\n",
       "      <td>12435.0</td>\n",
       "    </tr>\n",
       "    <tr>\n",
       "      <th>10</th>\n",
       "      <td>EIRE</td>\n",
       "      <td>14016.0</td>\n",
       "    </tr>\n",
       "    <tr>\n",
       "      <th>11</th>\n",
       "      <td>European Community</td>\n",
       "      <td>15108.0</td>\n",
       "    </tr>\n",
       "    <tr>\n",
       "      <th>12</th>\n",
       "      <td>Finland</td>\n",
       "      <td>12348.0</td>\n",
       "    </tr>\n",
       "    <tr>\n",
       "      <th>13</th>\n",
       "      <td>France</td>\n",
       "      <td>12643.0</td>\n",
       "    </tr>\n",
       "    <tr>\n",
       "      <th>14</th>\n",
       "      <td>Germany</td>\n",
       "      <td>12497.0</td>\n",
       "    </tr>\n",
       "    <tr>\n",
       "      <th>15</th>\n",
       "      <td>Greece</td>\n",
       "      <td>14439.0</td>\n",
       "    </tr>\n",
       "    <tr>\n",
       "      <th>16</th>\n",
       "      <td>Iceland</td>\n",
       "      <td>12347.0</td>\n",
       "    </tr>\n",
       "    <tr>\n",
       "      <th>17</th>\n",
       "      <td>Israel</td>\n",
       "      <td>12653.0</td>\n",
       "    </tr>\n",
       "    <tr>\n",
       "      <th>18</th>\n",
       "      <td>Italy</td>\n",
       "      <td>14912.0</td>\n",
       "    </tr>\n",
       "    <tr>\n",
       "      <th>19</th>\n",
       "      <td>Japan</td>\n",
       "      <td>12756.0</td>\n",
       "    </tr>\n",
       "    <tr>\n",
       "      <th>20</th>\n",
       "      <td>Lebanon</td>\n",
       "      <td>12764.0</td>\n",
       "    </tr>\n",
       "    <tr>\n",
       "      <th>21</th>\n",
       "      <td>Lithuania</td>\n",
       "      <td>15332.0</td>\n",
       "    </tr>\n",
       "    <tr>\n",
       "      <th>22</th>\n",
       "      <td>Malta</td>\n",
       "      <td>17828.0</td>\n",
       "    </tr>\n",
       "    <tr>\n",
       "      <th>23</th>\n",
       "      <td>Netherlands</td>\n",
       "      <td>12778.0</td>\n",
       "    </tr>\n",
       "    <tr>\n",
       "      <th>24</th>\n",
       "      <td>Norway</td>\n",
       "      <td>12752.0</td>\n",
       "    </tr>\n",
       "    <tr>\n",
       "      <th>25</th>\n",
       "      <td>Poland</td>\n",
       "      <td>12779.0</td>\n",
       "    </tr>\n",
       "    <tr>\n",
       "      <th>26</th>\n",
       "      <td>Portugal</td>\n",
       "      <td>12356.0</td>\n",
       "    </tr>\n",
       "    <tr>\n",
       "      <th>27</th>\n",
       "      <td>RSA</td>\n",
       "      <td>12446.0</td>\n",
       "    </tr>\n",
       "    <tr>\n",
       "      <th>28</th>\n",
       "      <td>Saudi Arabia</td>\n",
       "      <td>12565.0</td>\n",
       "    </tr>\n",
       "    <tr>\n",
       "      <th>29</th>\n",
       "      <td>Singapore</td>\n",
       "      <td>12744.0</td>\n",
       "    </tr>\n",
       "    <tr>\n",
       "      <th>30</th>\n",
       "      <td>Spain</td>\n",
       "      <td>12547.0</td>\n",
       "    </tr>\n",
       "    <tr>\n",
       "      <th>31</th>\n",
       "      <td>Sweden</td>\n",
       "      <td>12676.0</td>\n",
       "    </tr>\n",
       "    <tr>\n",
       "      <th>32</th>\n",
       "      <td>Switzerland</td>\n",
       "      <td>12409.0</td>\n",
       "    </tr>\n",
       "    <tr>\n",
       "      <th>33</th>\n",
       "      <td>USA</td>\n",
       "      <td>12607.0</td>\n",
       "    </tr>\n",
       "    <tr>\n",
       "      <th>34</th>\n",
       "      <td>United Arab Emirates</td>\n",
       "      <td>17829.0</td>\n",
       "    </tr>\n",
       "    <tr>\n",
       "      <th>35</th>\n",
       "      <td>United Kingdom</td>\n",
       "      <td>15313.0</td>\n",
       "    </tr>\n",
       "    <tr>\n",
       "      <th>36</th>\n",
       "      <td>Unspecified</td>\n",
       "      <td>12363.0</td>\n",
       "    </tr>\n",
       "  </tbody>\n",
       "</table>\n",
       "</div>"
      ],
      "text/plain": [
       "            Mean_Country  Total_revenue\n",
       "0              Australia        12415.0\n",
       "1                Austria        12817.0\n",
       "2                Bahrain        12355.0\n",
       "3                Belgium        12364.0\n",
       "4                 Brazil        12769.0\n",
       "5                 Canada        17444.0\n",
       "6        Channel Islands        14937.0\n",
       "7                 Cyprus        12455.0\n",
       "8         Czech Republic        12781.0\n",
       "9                Denmark        12435.0\n",
       "10                  EIRE        14016.0\n",
       "11    European Community        15108.0\n",
       "12               Finland        12348.0\n",
       "13                France        12643.0\n",
       "14               Germany        12497.0\n",
       "15                Greece        14439.0\n",
       "16               Iceland        12347.0\n",
       "17                Israel        12653.0\n",
       "18                 Italy        14912.0\n",
       "19                 Japan        12756.0\n",
       "20               Lebanon        12764.0\n",
       "21             Lithuania        15332.0\n",
       "22                 Malta        17828.0\n",
       "23           Netherlands        12778.0\n",
       "24                Norway        12752.0\n",
       "25                Poland        12779.0\n",
       "26              Portugal        12356.0\n",
       "27                   RSA        12446.0\n",
       "28          Saudi Arabia        12565.0\n",
       "29             Singapore        12744.0\n",
       "30                 Spain        12547.0\n",
       "31                Sweden        12676.0\n",
       "32           Switzerland        12409.0\n",
       "33                   USA        12607.0\n",
       "34  United Arab Emirates        17829.0\n",
       "35        United Kingdom        15313.0\n",
       "36           Unspecified        12363.0"
      ]
     },
     "execution_count": 95,
     "metadata": {},
     "output_type": "execute_result"
    }
   ],
   "source": [
    "#obtain average quantity bought per customer\n",
    "h =(df.groupby(['Country', 'CustomerID']).agg(mean_quantity = ('Quantity', np.mean)))\n",
    "\n",
    "#Select customers with the highest average mean count per country\n",
    "h = pd.DataFrame(h.groupby(level=0)['mean_quantity'].nlargest(1))\n",
    "h.index = h.index.droplevel()\n",
    "\n",
    "#inner-join the selection to create highest average quantity dataframe\n",
    "highest_quant = pd.merge(df, h.reset_index(), how = 'inner', left_on = ['Country', 'CustomerID'], right_on = ['Country', 'CustomerID'])\n",
    "highest_quant.groupby(['Country', 'CustomerID'], as_index=False).agg(Mean_Country = ('Quantity', np.mean), Total_revenue = ('Revenue', np.sum))\n"
   ]
  },
  {
   "cell_type": "code",
   "execution_count": 96,
   "metadata": {},
   "outputs": [
    {
     "data": {
      "text/plain": [
       "(1434, 10)"
      ]
     },
     "execution_count": 96,
     "metadata": {},
     "output_type": "execute_result"
    }
   ],
   "source": [
    "highest_quant.shape"
   ]
  },
  {
   "cell_type": "code",
   "execution_count": 97,
   "metadata": {},
   "outputs": [
    {
     "data": {
      "text/plain": [
       "12.772932828559997"
      ]
     },
     "execution_count": 97,
     "metadata": {},
     "output_type": "execute_result"
    }
   ],
   "source": [
    "df['Revenue'].mean() "
   ]
  },
  {
   "cell_type": "code",
   "execution_count": 98,
   "metadata": {},
   "outputs": [
    {
     "data": {
      "text/plain": [
       "26.671645746164586"
      ]
     },
     "execution_count": 98,
     "metadata": {},
     "output_type": "execute_result"
    }
   ],
   "source": [
    "highest_quant['Revenue'].mean() "
   ]
  },
  {
   "cell_type": "code",
   "execution_count": 99,
   "metadata": {},
   "outputs": [
    {
     "data": {
      "image/png": "[encoded data removed]",
      "text/plain": [
       "<Figure size 720x432 with 1 Axes>"
      ]
     },
     "metadata": {},
     "output_type": "display_data"
    }
   ],
   "source": [
    "bar2 = pd.DataFrame({'Customer': {0: 'Highest-ordering Customers', 1: 'Highest-quantity Customers'}, \n",
    "                   'Mean': {0: highest_ord['Revenue'].mean(), 1: highest_quant['Revenue'].mean()}})\n",
    "\n",
    "fig = plt.figure(figsize = (10, 6))\n",
    "clrs1 = ['rebeccapurple' if (x == min(bar2)) else 'steelblue' for x in bar2 ]\n",
    "sns.barplot(x=\"Customer\", y = 'Mean', data = bar2, palette = clrs1)\n",
    "plt.title(\"Mean Revenue by Customer Types\");"
   ]
  },
  {
   "cell_type": "markdown",
   "metadata": {},
   "source": [
    "#### t-test with p-value"
   ]
  },
  {
   "cell_type": "code",
   "execution_count": 100,
   "metadata": {},
   "outputs": [
    {
     "data": {
      "text/plain": [
       "24.287713480343267"
      ]
     },
     "execution_count": 100,
     "metadata": {},
     "output_type": "execute_result"
    }
   ],
   "source": [
    "#Null Hypothesis: There is no difference between the sample mean and the hypothesized mean.\n",
    "#Alternative Hypothesis: The sample mean is different from the hypothesized mean.\n",
    "\n",
    "#H0 : μ = 12.77, Ha : μ != 12.77\n",
    "n = 1434\n",
    "degrees_of_freedom = n-1\n",
    "xbar = highest_quant['Revenue'].mean()\n",
    "mu = df['Revenue'].mean()\n",
    "s = highest_quant['Revenue'].std()\n",
    "alpha = 0.05\n",
    "\n",
    "\n",
    "t = (xbar - mu) / (s / np.sqrt(n))\n",
    "t"
   ]
  },
  {
   "cell_type": "code",
   "execution_count": 101,
   "metadata": {},
   "outputs": [
    {
     "data": {
      "text/plain": [
       "0.0"
      ]
     },
     "execution_count": 101,
     "metadata": {},
     "output_type": "execute_result"
    }
   ],
   "source": [
    "p = (1 - st.t.cdf(abs(t) ,degrees_of_freedom))*2 #since, this is a 2-tailed test, we are multiplying by 2\n",
    "p\n",
    "#The closer to 0.0 the p-value is, the better or more significant is the result we have obtained."
   ]
  },
  {
   "cell_type": "code",
   "execution_count": 102,
   "metadata": {},
   "outputs": [
    {
     "name": "stdout",
     "output_type": "stream",
     "text": [
      "Reject Null hypothesis\n"
     ]
    }
   ],
   "source": [
    "if (p > alpha):\n",
    "    print(\"Null hypothesis cannot be rejected\")\n",
    "else:\n",
    "    print(\"Reject Null hypothesis\")"
   ]
  },
  {
   "cell_type": "markdown",
   "metadata": {},
   "source": [
    "### With the result above, we can accept the assistant manager’s hypothesis of rewarding customers who purchased the highest average quantity of goods."
   ]
  },
  {
   "cell_type": "code",
   "execution_count": null,
   "metadata": {},
   "outputs": [],
   "source": []
  }
 ],
 "metadata": {
  "kernelspec": {
   "display_name": "Python 3",
   "language": "python",
   "name": "python3"
  },
  "language_info": {
   "codemirror_mode": {
    "name": "ipython",
    "version": 3
   },
   "file_extension": ".py",
   "mimetype": "text/x-python",
   "name": "python",
   "nbconvert_exporter": "python",
   "pygments_lexer": "ipython3",
   "version": "3.7.4"
  }
 },
 "nbformat": 4,
 "nbformat_minor": 4
}
